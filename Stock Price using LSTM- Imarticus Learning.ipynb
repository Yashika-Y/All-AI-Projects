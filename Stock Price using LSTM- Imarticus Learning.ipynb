{
 "cells": [
  {
   "cell_type": "markdown",
   "metadata": {},
   "source": [
    "\n"
   ]
  },
  {
   "cell_type": "markdown",
   "metadata": {},
   "source": [
    "## A Seperate Handbook is provided with detailed discription of the Code"
   ]
  },
  {
   "cell_type": "markdown",
   "metadata": {},
   "source": [
    "#### The following line is one time code for installing pandas_datareader"
   ]
  },
  {
   "cell_type": "code",
   "execution_count": 1,
   "metadata": {},
   "outputs": [],
   "source": [
    "#pip install pandas_datareader\n"
   ]
  },
  {
   "cell_type": "code",
   "execution_count": null,
   "metadata": {},
   "outputs": [],
   "source": []
  },
  {
   "cell_type": "code",
   "execution_count": 2,
   "metadata": {},
   "outputs": [],
   "source": [
    "# This code will filter out all the warnings\n",
    "import warnings\n",
    "warnings.filterwarnings('ignore')"
   ]
  },
  {
   "cell_type": "markdown",
   "metadata": {},
   "source": [
    "### Import the Necessary Libraries"
   ]
  },
  {
   "cell_type": "code",
   "execution_count": 3,
   "metadata": {},
   "outputs": [],
   "source": [
    "import pandas_datareader as web\n",
    "import math\n",
    "import pandas as pd\n",
    "import numpy as np\n",
    "from sklearn.preprocessing import MinMaxScaler\n",
    "import matplotlib.pyplot as plt\n",
    "import seaborn as sns\n",
    "sns.set()\n",
    "from datetime import date\n"
   ]
  },
  {
   "cell_type": "markdown",
   "metadata": {},
   "source": [
    "### Import data using pandas_datareader. Select data range of your choice"
   ]
  },
  {
   "cell_type": "code",
   "execution_count": 4,
   "metadata": {},
   "outputs": [],
   "source": [
    "df=web.DataReader('GOOGL',data_source='yahoo',start='2012-01-01',end='2020-04-30')"
   ]
  },
  {
   "cell_type": "markdown",
   "metadata": {},
   "source": [
    "## Basic EDA"
   ]
  },
  {
   "cell_type": "code",
   "execution_count": 5,
   "metadata": {},
   "outputs": [
    {
     "data": {
      "text/html": [
       "<div>\n",
       "<style scoped>\n",
       "    .dataframe tbody tr th:only-of-type {\n",
       "        vertical-align: middle;\n",
       "    }\n",
       "\n",
       "    .dataframe tbody tr th {\n",
       "        vertical-align: top;\n",
       "    }\n",
       "\n",
       "    .dataframe thead th {\n",
       "        text-align: right;\n",
       "    }\n",
       "</style>\n",
       "<table border=\"1\" class=\"dataframe\">\n",
       "  <thead>\n",
       "    <tr style=\"text-align: right;\">\n",
       "      <th></th>\n",
       "      <th>High</th>\n",
       "      <th>Low</th>\n",
       "      <th>Open</th>\n",
       "      <th>Close</th>\n",
       "      <th>Volume</th>\n",
       "      <th>Adj Close</th>\n",
       "    </tr>\n",
       "    <tr>\n",
       "      <th>Date</th>\n",
       "      <th></th>\n",
       "      <th></th>\n",
       "      <th></th>\n",
       "      <th></th>\n",
       "      <th></th>\n",
       "      <th></th>\n",
       "    </tr>\n",
       "  </thead>\n",
       "  <tbody>\n",
       "    <tr>\n",
       "      <th>2020-04-24</th>\n",
       "      <td>1277.709961</td>\n",
       "      <td>1244.000000</td>\n",
       "      <td>1255.000000</td>\n",
       "      <td>1276.599976</td>\n",
       "      <td>1872000.0</td>\n",
       "      <td>1276.599976</td>\n",
       "    </tr>\n",
       "    <tr>\n",
       "      <th>2020-04-27</th>\n",
       "      <td>1294.099976</td>\n",
       "      <td>1265.060059</td>\n",
       "      <td>1292.000000</td>\n",
       "      <td>1270.859985</td>\n",
       "      <td>2209300.0</td>\n",
       "      <td>1270.859985</td>\n",
       "    </tr>\n",
       "    <tr>\n",
       "      <th>2020-04-28</th>\n",
       "      <td>1284.760010</td>\n",
       "      <td>1230.380005</td>\n",
       "      <td>1283.199951</td>\n",
       "      <td>1232.589966</td>\n",
       "      <td>4035000.0</td>\n",
       "      <td>1232.589966</td>\n",
       "    </tr>\n",
       "    <tr>\n",
       "      <th>2020-04-29</th>\n",
       "      <td>1360.150024</td>\n",
       "      <td>1326.729980</td>\n",
       "      <td>1345.000000</td>\n",
       "      <td>1342.180054</td>\n",
       "      <td>5417900.0</td>\n",
       "      <td>1342.180054</td>\n",
       "    </tr>\n",
       "    <tr>\n",
       "      <th>2020-04-30</th>\n",
       "      <td>1350.000000</td>\n",
       "      <td>1321.500000</td>\n",
       "      <td>1331.359985</td>\n",
       "      <td>1346.699951</td>\n",
       "      <td>2789200.0</td>\n",
       "      <td>1346.699951</td>\n",
       "    </tr>\n",
       "  </tbody>\n",
       "</table>\n",
       "</div>"
      ],
      "text/plain": [
       "                   High          Low         Open        Close     Volume  \\\n",
       "Date                                                                        \n",
       "2020-04-24  1277.709961  1244.000000  1255.000000  1276.599976  1872000.0   \n",
       "2020-04-27  1294.099976  1265.060059  1292.000000  1270.859985  2209300.0   \n",
       "2020-04-28  1284.760010  1230.380005  1283.199951  1232.589966  4035000.0   \n",
       "2020-04-29  1360.150024  1326.729980  1345.000000  1342.180054  5417900.0   \n",
       "2020-04-30  1350.000000  1321.500000  1331.359985  1346.699951  2789200.0   \n",
       "\n",
       "              Adj Close  \n",
       "Date                     \n",
       "2020-04-24  1276.599976  \n",
       "2020-04-27  1270.859985  \n",
       "2020-04-28  1232.589966  \n",
       "2020-04-29  1342.180054  \n",
       "2020-04-30  1346.699951  "
      ]
     },
     "execution_count": 5,
     "metadata": {},
     "output_type": "execute_result"
    }
   ],
   "source": [
    "df.tail()"
   ]
  },
  {
   "cell_type": "code",
   "execution_count": 6,
   "metadata": {},
   "outputs": [
    {
     "data": {
      "text/plain": [
       "(2095, 6)"
      ]
     },
     "execution_count": 6,
     "metadata": {},
     "output_type": "execute_result"
    }
   ],
   "source": [
    "df.shape"
   ]
  },
  {
   "cell_type": "code",
   "execution_count": 7,
   "metadata": {},
   "outputs": [
    {
     "data": {
      "image/png": "[encoded data removed]",
      "text/plain": [
       "<Figure size 1080x360 with 1 Axes>"
      ]
     },
     "metadata": {},
     "output_type": "display_data"
    }
   ],
   "source": [
    "plt.figure(figsize=(15,5))\n",
    "plt.plot(df.Close)\n",
    "plt.title(\"Stock Price\")\n",
    "plt.xlabel(\"Date\")\n",
    "plt.ylabel(\"Close Price in US $\");\n"
   ]
  },
  {
   "cell_type": "markdown",
   "metadata": {},
   "source": [
    "## Seperate out the Close Column as we will be working on the Closing Values"
   ]
  },
  {
   "cell_type": "code",
   "execution_count": 8,
   "metadata": {},
   "outputs": [],
   "source": [
    "close=df.filter(['Close'])"
   ]
  },
  {
   "cell_type": "code",
   "execution_count": 9,
   "metadata": {},
   "outputs": [
    {
     "data": {
      "text/html": [
       "<div>\n",
       "<style scoped>\n",
       "    .dataframe tbody tr th:only-of-type {\n",
       "        vertical-align: middle;\n",
       "    }\n",
       "\n",
       "    .dataframe tbody tr th {\n",
       "        vertical-align: top;\n",
       "    }\n",
       "\n",
       "    .dataframe thead th {\n",
       "        text-align: right;\n",
       "    }\n",
       "</style>\n",
       "<table border=\"1\" class=\"dataframe\">\n",
       "  <thead>\n",
       "    <tr style=\"text-align: right;\">\n",
       "      <th></th>\n",
       "      <th>Close</th>\n",
       "    </tr>\n",
       "    <tr>\n",
       "      <th>Date</th>\n",
       "      <th></th>\n",
       "    </tr>\n",
       "  </thead>\n",
       "  <tbody>\n",
       "    <tr>\n",
       "      <th>2012-01-03</th>\n",
       "      <td>333.038025</td>\n",
       "    </tr>\n",
       "    <tr>\n",
       "      <th>2012-01-04</th>\n",
       "      <td>334.474487</td>\n",
       "    </tr>\n",
       "    <tr>\n",
       "      <th>2012-01-05</th>\n",
       "      <td>329.834839</td>\n",
       "    </tr>\n",
       "    <tr>\n",
       "      <th>2012-01-06</th>\n",
       "      <td>325.335327</td>\n",
       "    </tr>\n",
       "    <tr>\n",
       "      <th>2012-01-09</th>\n",
       "      <td>311.541534</td>\n",
       "    </tr>\n",
       "  </tbody>\n",
       "</table>\n",
       "</div>"
      ],
      "text/plain": [
       "                 Close\n",
       "Date                  \n",
       "2012-01-03  333.038025\n",
       "2012-01-04  334.474487\n",
       "2012-01-05  329.834839\n",
       "2012-01-06  325.335327\n",
       "2012-01-09  311.541534"
      ]
     },
     "execution_count": 9,
     "metadata": {},
     "output_type": "execute_result"
    }
   ],
   "source": [
    "close.head()"
   ]
  },
  {
   "cell_type": "code",
   "execution_count": 10,
   "metadata": {},
   "outputs": [],
   "source": [
    "# change the Values to Numpy Array\n",
    "close_stock=close.values"
   ]
  },
  {
   "cell_type": "code",
   "execution_count": 11,
   "metadata": {},
   "outputs": [
    {
     "data": {
      "text/plain": [
       "numpy.ndarray"
      ]
     },
     "execution_count": 11,
     "metadata": {},
     "output_type": "execute_result"
    }
   ],
   "source": [
    "type(close_stock)"
   ]
  },
  {
   "cell_type": "markdown",
   "metadata": {},
   "source": [
    "## Prepare & Scale  the Training Data"
   ]
  },
  {
   "cell_type": "code",
   "execution_count": 12,
   "metadata": {},
   "outputs": [],
   "source": [
    "training_data_length=math.ceil(len(close_stock)*0.8)"
   ]
  },
  {
   "cell_type": "code",
   "execution_count": 13,
   "metadata": {},
   "outputs": [
    {
     "data": {
      "text/plain": [
       "1676"
      ]
     },
     "execution_count": 13,
     "metadata": {},
     "output_type": "execute_result"
    }
   ],
   "source": [
    "training_data_length"
   ]
  },
  {
   "cell_type": "code",
   "execution_count": 14,
   "metadata": {},
   "outputs": [],
   "source": [
    "mms=MinMaxScaler(feature_range=(0, 1))"
   ]
  },
  {
   "cell_type": "code",
   "execution_count": 15,
   "metadata": {},
   "outputs": [],
   "source": [
    "scaled_close_stock=mms.fit_transform(close_stock)"
   ]
  },
  {
   "cell_type": "code",
   "execution_count": 16,
   "metadata": {},
   "outputs": [],
   "source": [
    "training_data=scaled_close_stock[0:training_data_length,:]"
   ]
  },
  {
   "cell_type": "code",
   "execution_count": 17,
   "metadata": {},
   "outputs": [
    {
     "data": {
      "text/plain": [
       "1676"
      ]
     },
     "execution_count": 17,
     "metadata": {},
     "output_type": "execute_result"
    }
   ],
   "source": [
    "len(training_data)"
   ]
  },
  {
   "cell_type": "code",
   "execution_count": 18,
   "metadata": {},
   "outputs": [
    {
     "data": {
      "text/plain": [
       "array([[0.04275536],\n",
       "       [0.04390909],\n",
       "       [0.04018266],\n",
       "       ...,\n",
       "       [0.78426834],\n",
       "       [0.77590731],\n",
       "       [0.79099892]])"
      ]
     },
     "execution_count": 18,
     "metadata": {},
     "output_type": "execute_result"
    }
   ],
   "source": [
    "training_data"
   ]
  },
  {
   "cell_type": "markdown",
   "metadata": {},
   "source": [
    "### Make X_train & y_train"
   ]
  },
  {
   "cell_type": "code",
   "execution_count": 19,
   "metadata": {},
   "outputs": [],
   "source": [
    "X_train=[]\n",
    "y_train=[]"
   ]
  },
  {
   "cell_type": "code",
   "execution_count": 20,
   "metadata": {},
   "outputs": [],
   "source": [
    "for i in range(60 ,len(training_data)):\n",
    "    X_train.append(training_data[i-60:i,0])\n",
    "    y_train.append(training_data[i,0])"
   ]
  },
  {
   "cell_type": "markdown",
   "metadata": {},
   "source": [
    "### Change X_train and y_train to NumPy arrays"
   ]
  },
  {
   "cell_type": "code",
   "execution_count": 21,
   "metadata": {},
   "outputs": [],
   "source": [
    "X_train,y_train=np.array(X_train),np.array(y_train)"
   ]
  },
  {
   "cell_type": "code",
   "execution_count": 22,
   "metadata": {},
   "outputs": [
    {
     "name": "stdout",
     "output_type": "stream",
     "text": [
      "<class 'numpy.ndarray'>\n",
      "<class 'numpy.ndarray'>\n"
     ]
    }
   ],
   "source": [
    "print(type(X_train))\n",
    "print(type(y_train))\n"
   ]
  },
  {
   "cell_type": "code",
   "execution_count": 23,
   "metadata": {},
   "outputs": [
    {
     "name": "stdout",
     "output_type": "stream",
     "text": [
      "2\n",
      "(1616, 60)\n"
     ]
    }
   ],
   "source": [
    "print(X_train.ndim)\n",
    "print(X_train.shape)"
   ]
  },
  {
   "cell_type": "markdown",
   "metadata": {},
   "source": [
    "### RNN needs data in 3 dimensions , number of Samples, Number of Time Steps and Number of Features So wee need to reshape the data"
   ]
  },
  {
   "cell_type": "code",
   "execution_count": 24,
   "metadata": {},
   "outputs": [
    {
     "name": "stdout",
     "output_type": "stream",
     "text": [
      "(1616, 60)\n"
     ]
    }
   ],
   "source": [
    "print(X_train.shape)\n",
    "X_train=np.reshape(X_train,(X_train.shape[0],X_train.shape[1],1))"
   ]
  },
  {
   "cell_type": "markdown",
   "metadata": {},
   "source": [
    "# Make the LSTM Architecture"
   ]
  },
  {
   "cell_type": "code",
   "execution_count": 25,
   "metadata": {},
   "outputs": [
    {
     "name": "stderr",
     "output_type": "stream",
     "text": [
      "Using TensorFlow backend.\n"
     ]
    }
   ],
   "source": [
    "import keras\n",
    "from keras.models import Sequential\n",
    "from keras.layers import Dense\n",
    "from keras.layers import LSTM\n",
    "from keras.layers import Dropout"
   ]
  },
  {
   "cell_type": "code",
   "execution_count": 26,
   "metadata": {},
   "outputs": [],
   "source": [
    "model = Sequential()"
   ]
  },
  {
   "cell_type": "code",
   "execution_count": 27,
   "metadata": {},
   "outputs": [
    {
     "data": {
      "text/plain": [
       "(1616, 60, 1)"
      ]
     },
     "execution_count": 27,
     "metadata": {},
     "output_type": "execute_result"
    }
   ],
   "source": [
    "X_train.shape"
   ]
  },
  {
   "cell_type": "markdown",
   "metadata": {},
   "source": [
    "### input_shape = number of time steps and number of features. In this case number of features is 1"
   ]
  },
  {
   "cell_type": "code",
   "execution_count": 28,
   "metadata": {},
   "outputs": [],
   "source": [
    "model.add(LSTM(units = 50, return_sequences = True, input_shape = (X_train.shape[1], 1)))\n",
    "\n",
    "\n",
    "# Adding a second LSTM layer and some Dropout regularisation\n",
    "model.add(LSTM(units = 50, return_sequences = True))\n",
    "\n",
    "\n",
    "# Adding a third LSTM layer and some Dropout regularisation\n",
    "model.add(LSTM(units = 50, return_sequences = True))\n",
    "\n",
    "\n",
    "# Adding a fourth LSTM layer and some Dropout regularisation\n",
    "model.add(LSTM(units = 50))\n"
   ]
  },
  {
   "cell_type": "code",
   "execution_count": 29,
   "metadata": {},
   "outputs": [],
   "source": [
    "# Adding the output layer\n",
    "model.add(Dense(units = 1))\n",
    "\n",
    "# Compiling the RNN\n",
    "model.compile(optimizer = 'adam', loss = 'mean_squared_error')"
   ]
  },
  {
   "cell_type": "code",
   "execution_count": 30,
   "metadata": {},
   "outputs": [
    {
     "name": "stdout",
     "output_type": "stream",
     "text": [
      "Epoch 1/50\n",
      "1616/1616 [==============================] - 6s 3ms/step - loss: 0.0104\n",
      "Epoch 2/50\n",
      "1616/1616 [==============================] - 4s 3ms/step - loss: 6.6835e-04\n",
      "Epoch 3/50\n",
      "1616/1616 [==============================] - 4s 3ms/step - loss: 6.0935e-04\n",
      "Epoch 4/50\n",
      "1616/1616 [==============================] - 4s 3ms/step - loss: 5.9884e-04\n",
      "Epoch 5/50\n",
      "1616/1616 [==============================] - 4s 3ms/step - loss: 6.2310e-04\n",
      "Epoch 6/50\n",
      "1616/1616 [==============================] - 4s 3ms/step - loss: 5.8073e-04\n",
      "Epoch 7/50\n",
      "1616/1616 [==============================] - 5s 3ms/step - loss: 5.5968e-04\n",
      "Epoch 8/50\n",
      "1616/1616 [==============================] - 4s 3ms/step - loss: 5.4200e-04\n",
      "Epoch 9/50\n",
      "1616/1616 [==============================] - 4s 2ms/step - loss: 6.0178e-04\n",
      "Epoch 10/50\n",
      "1616/1616 [==============================] - 4s 2ms/step - loss: 5.7981e-04\n",
      "Epoch 11/50\n",
      "1616/1616 [==============================] - 4s 2ms/step - loss: 5.6903e-04\n",
      "Epoch 12/50\n",
      "1616/1616 [==============================] - 4s 3ms/step - loss: 4.9799e-04\n",
      "Epoch 13/50\n",
      "1616/1616 [==============================] - 4s 3ms/step - loss: 6.0510e-04\n",
      "Epoch 14/50\n",
      "1616/1616 [==============================] - 5s 3ms/step - loss: 5.4295e-04\n",
      "Epoch 15/50\n",
      "1616/1616 [==============================] - 5s 3ms/step - loss: 4.6759e-04\n",
      "Epoch 16/50\n",
      "1616/1616 [==============================] - 4s 3ms/step - loss: 5.3775e-04\n",
      "Epoch 17/50\n",
      "1616/1616 [==============================] - 4s 2ms/step - loss: 4.2384e-04\n",
      "Epoch 18/50\n",
      "1616/1616 [==============================] - 4s 2ms/step - loss: 4.0680e-04\n",
      "Epoch 19/50\n",
      "1616/1616 [==============================] - 4s 3ms/step - loss: 4.1625e-04\n",
      "Epoch 20/50\n",
      "1616/1616 [==============================] - 4s 3ms/step - loss: 5.0134e-04\n",
      "Epoch 21/50\n",
      "1616/1616 [==============================] - 4s 3ms/step - loss: 4.1693e-04\n",
      "Epoch 22/50\n",
      "1616/1616 [==============================] - 4s 3ms/step - loss: 3.6635e-04\n",
      "Epoch 23/50\n",
      "1616/1616 [==============================] - 4s 3ms/step - loss: 3.3748e-04\n",
      "Epoch 24/50\n",
      "1616/1616 [==============================] - 4s 3ms/step - loss: 4.4927e-04\n",
      "Epoch 25/50\n",
      "1616/1616 [==============================] - 4s 3ms/step - loss: 3.3724e-04\n",
      "Epoch 26/50\n",
      "1616/1616 [==============================] - 4s 3ms/step - loss: 3.4861e-04\n",
      "Epoch 27/50\n",
      "1616/1616 [==============================] - 4s 3ms/step - loss: 3.4392e-04\n",
      "Epoch 28/50\n",
      "1616/1616 [==============================] - 5s 3ms/step - loss: 3.2191e-04\n",
      "Epoch 29/50\n",
      "1616/1616 [==============================] - 5s 3ms/step - loss: 3.0947e-04\n",
      "Epoch 30/50\n",
      "1616/1616 [==============================] - 5s 3ms/step - loss: 2.7834e-04\n",
      "Epoch 31/50\n",
      "1616/1616 [==============================] - 4s 3ms/step - loss: 3.4421e-04\n",
      "Epoch 32/50\n",
      "1616/1616 [==============================] - 4s 3ms/step - loss: 2.6758e-04\n",
      "Epoch 33/50\n",
      "1616/1616 [==============================] - 4s 3ms/step - loss: 3.0774e-04\n",
      "Epoch 34/50\n",
      "1616/1616 [==============================] - 5s 3ms/step - loss: 2.6862e-04\n",
      "Epoch 35/50\n",
      "1616/1616 [==============================] - 4s 3ms/step - loss: 2.6076e-04\n",
      "Epoch 36/50\n",
      "1616/1616 [==============================] - 4s 3ms/step - loss: 2.3464e-04\n",
      "Epoch 37/50\n",
      "1616/1616 [==============================] - 4s 3ms/step - loss: 2.3557e-04\n",
      "Epoch 38/50\n",
      "1616/1616 [==============================] - 5s 3ms/step - loss: 1.8769e-04\n",
      "Epoch 39/50\n",
      "1616/1616 [==============================] - 5s 3ms/step - loss: 1.8694e-04\n",
      "Epoch 40/50\n",
      "1616/1616 [==============================] - 4s 3ms/step - loss: 2.7887e-04\n",
      "Epoch 41/50\n",
      "1616/1616 [==============================] - 5s 3ms/step - loss: 1.8486e-04\n",
      "Epoch 42/50\n",
      "1616/1616 [==============================] - 5s 3ms/step - loss: 1.7718e-04\n",
      "Epoch 43/50\n",
      "1616/1616 [==============================] - 6s 4ms/step - loss: 1.6499e-04\n",
      "Epoch 44/50\n",
      "1616/1616 [==============================] - 5s 3ms/step - loss: 1.5581e-04\n",
      "Epoch 45/50\n",
      "1616/1616 [==============================] - 4s 3ms/step - loss: 1.6291e-04\n",
      "Epoch 46/50\n",
      "1616/1616 [==============================] - 4s 3ms/step - loss: 1.5438e-04\n",
      "Epoch 47/50\n",
      "1616/1616 [==============================] - 5s 3ms/step - loss: 1.6638e-04\n",
      "Epoch 48/50\n",
      "1616/1616 [==============================] - 5s 3ms/step - loss: 1.7906e-04\n",
      "Epoch 49/50\n",
      "1616/1616 [==============================] - 4s 3ms/step - loss: 1.3758e-04\n",
      "Epoch 50/50\n",
      "1616/1616 [==============================] - 4s 3ms/step - loss: 1.3269e-04\n"
     ]
    },
    {
     "data": {
      "text/plain": [
       "<keras.callbacks.callbacks.History at 0x7feb65347d10>"
      ]
     },
     "execution_count": 30,
     "metadata": {},
     "output_type": "execute_result"
    }
   ],
   "source": [
    "# Fitting the RNN to the Training set\n",
    "model.fit(X_train, y_train, epochs = 50, batch_size = 32)\n"
   ]
  },
  {
   "cell_type": "markdown",
   "metadata": {},
   "source": [
    "## Prepare & reshape the Test Data"
   ]
  },
  {
   "cell_type": "code",
   "execution_count": 31,
   "metadata": {},
   "outputs": [],
   "source": [
    "test_data=scaled_close_stock[training_data_length-60:,:]\n"
   ]
  },
  {
   "cell_type": "code",
   "execution_count": 32,
   "metadata": {},
   "outputs": [
    {
     "data": {
      "text/plain": [
       "1676"
      ]
     },
     "execution_count": 32,
     "metadata": {},
     "output_type": "execute_result"
    }
   ],
   "source": [
    "training_data_length"
   ]
  },
  {
   "cell_type": "code",
   "execution_count": 33,
   "metadata": {},
   "outputs": [
    {
     "data": {
      "text/plain": [
       "479"
      ]
     },
     "execution_count": 33,
     "metadata": {},
     "output_type": "execute_result"
    }
   ],
   "source": [
    "len(test_data)"
   ]
  },
  {
   "cell_type": "code",
   "execution_count": 34,
   "metadata": {},
   "outputs": [],
   "source": [
    "X_test=[]\n",
    "y_test=close_stock[training_data_length:,:]"
   ]
  },
  {
   "cell_type": "code",
   "execution_count": 35,
   "metadata": {},
   "outputs": [],
   "source": [
    "for i in range(60,len(test_data)):\n",
    "    X_test.append(test_data[i-60:i,0])"
   ]
  },
  {
   "cell_type": "code",
   "execution_count": 36,
   "metadata": {},
   "outputs": [
    {
     "data": {
      "text/plain": [
       "419"
      ]
     },
     "execution_count": 36,
     "metadata": {},
     "output_type": "execute_result"
    }
   ],
   "source": [
    "len(X_test)"
   ]
  },
  {
   "cell_type": "code",
   "execution_count": 37,
   "metadata": {},
   "outputs": [],
   "source": [
    "X_test=np.array(X_test)"
   ]
  },
  {
   "cell_type": "code",
   "execution_count": 38,
   "metadata": {},
   "outputs": [
    {
     "data": {
      "text/plain": [
       "(419, 60)"
      ]
     },
     "execution_count": 38,
     "metadata": {},
     "output_type": "execute_result"
    }
   ],
   "source": [
    "X_test.shape"
   ]
  },
  {
   "cell_type": "code",
   "execution_count": 39,
   "metadata": {},
   "outputs": [],
   "source": [
    "X_test=np.reshape(X_test,(X_test.shape[0],X_test.shape[1],1))"
   ]
  },
  {
   "cell_type": "markdown",
   "metadata": {},
   "source": [
    "# Make Predictions"
   ]
  },
  {
   "cell_type": "code",
   "execution_count": 40,
   "metadata": {},
   "outputs": [],
   "source": [
    "y_pred=model.predict(X_test)\n"
   ]
  },
  {
   "cell_type": "code",
   "execution_count": 41,
   "metadata": {},
   "outputs": [],
   "source": [
    "y_pred=mms.inverse_transform(y_pred)"
   ]
  },
  {
   "cell_type": "code",
   "execution_count": 42,
   "metadata": {},
   "outputs": [
    {
     "data": {
      "text/html": [
       "<div>\n",
       "<style scoped>\n",
       "    .dataframe tbody tr th:only-of-type {\n",
       "        vertical-align: middle;\n",
       "    }\n",
       "\n",
       "    .dataframe tbody tr th {\n",
       "        vertical-align: top;\n",
       "    }\n",
       "\n",
       "    .dataframe thead th {\n",
       "        text-align: right;\n",
       "    }\n",
       "</style>\n",
       "<table border=\"1\" class=\"dataframe\">\n",
       "  <thead>\n",
       "    <tr style=\"text-align: right;\">\n",
       "      <th></th>\n",
       "      <th>0</th>\n",
       "    </tr>\n",
       "  </thead>\n",
       "  <tbody>\n",
       "    <tr>\n",
       "      <th>0</th>\n",
       "      <td>1240.207764</td>\n",
       "    </tr>\n",
       "    <tr>\n",
       "      <th>1</th>\n",
       "      <td>1238.413940</td>\n",
       "    </tr>\n",
       "    <tr>\n",
       "      <th>2</th>\n",
       "      <td>1223.148071</td>\n",
       "    </tr>\n",
       "    <tr>\n",
       "      <th>3</th>\n",
       "      <td>1200.273438</td>\n",
       "    </tr>\n",
       "    <tr>\n",
       "      <th>4</th>\n",
       "      <td>1182.221558</td>\n",
       "    </tr>\n",
       "    <tr>\n",
       "      <th>...</th>\n",
       "      <td>...</td>\n",
       "    </tr>\n",
       "    <tr>\n",
       "      <th>414</th>\n",
       "      <td>1234.215820</td>\n",
       "    </tr>\n",
       "    <tr>\n",
       "      <th>415</th>\n",
       "      <td>1257.007446</td>\n",
       "    </tr>\n",
       "    <tr>\n",
       "      <th>416</th>\n",
       "      <td>1262.414429</td>\n",
       "    </tr>\n",
       "    <tr>\n",
       "      <th>417</th>\n",
       "      <td>1237.210449</td>\n",
       "    </tr>\n",
       "    <tr>\n",
       "      <th>418</th>\n",
       "      <td>1263.835693</td>\n",
       "    </tr>\n",
       "  </tbody>\n",
       "</table>\n",
       "<p>419 rows × 1 columns</p>\n",
       "</div>"
      ],
      "text/plain": [
       "               0\n",
       "0    1240.207764\n",
       "1    1238.413940\n",
       "2    1223.148071\n",
       "3    1200.273438\n",
       "4    1182.221558\n",
       "..           ...\n",
       "414  1234.215820\n",
       "415  1257.007446\n",
       "416  1262.414429\n",
       "417  1237.210449\n",
       "418  1263.835693\n",
       "\n",
       "[419 rows x 1 columns]"
      ]
     },
     "execution_count": 42,
     "metadata": {},
     "output_type": "execute_result"
    }
   ],
   "source": [
    "pd.DataFrame(y_pred)"
   ]
  },
  {
   "cell_type": "markdown",
   "metadata": {},
   "source": [
    "## Plot the Data"
   ]
  },
  {
   "cell_type": "code",
   "execution_count": 43,
   "metadata": {
    "scrolled": true
   },
   "outputs": [
    {
     "data": {
      "image/png": "[encoded data removed]",
      "text/plain": [
       "<Figure size 1080x360 with 1 Axes>"
      ]
     },
     "metadata": {},
     "output_type": "display_data"
    }
   ],
   "source": [
    "# Visualising the results\n",
    "plt.figure(figsize=(15,5))\n",
    "plt.plot(y_test, color = 'red', label = 'Actual  Stock Price',ls='--')\n",
    "plt.plot(y_pred, color = 'limegreen', label = 'Predicted  Stock Price',ls='-')\n",
    "plt.title('Stock Market Projection')\n",
    "plt.xlabel('Time in days')\n",
    "plt.ylabel('Price in USD ($)')\n",
    "plt.legend()\n",
    "plt.show()"
   ]
  },
  {
   "cell_type": "markdown",
   "metadata": {},
   "source": [
    "## Plot the whole Data Training, Testing and Prediction Data together"
   ]
  },
  {
   "cell_type": "code",
   "execution_count": 44,
   "metadata": {},
   "outputs": [],
   "source": [
    "train=close[:training_data_length]\n",
    "test=close[training_data_length:]\n",
    "test['pred']=y_pred"
   ]
  },
  {
   "cell_type": "code",
   "execution_count": 45,
   "metadata": {},
   "outputs": [
    {
     "data": {
      "image/png": "[encoded data removed]",
      "text/plain": [
       "<Figure size 1080x360 with 1 Axes>"
      ]
     },
     "metadata": {},
     "output_type": "display_data"
    }
   ],
   "source": [
    "plt.figure(figsize=(15,5))\n",
    "plt.plot(train['Close'], color = 'tab:blue', label = 'Training Stock Data',ls='-')\n",
    "plt.plot(test['Close'], color = 'tab:red', label = 'Testing Stock Data',ls='-')\n",
    "plt.plot(test['pred'], color = 'tab:green', label = 'Predicted Stock Data',ls='dashdot')\n",
    "plt.title('Stock Price')\n",
    "plt.xlabel('Date')\n",
    "plt.ylabel('Stock Price in US $')\n",
    "plt.legend()\n",
    "plt.show()"
   ]
  }
 ],
 "metadata": {
  "kernelspec": {
   "display_name": "Python 3 (ipykernel)",
   "language": "python",
   "name": "python3"
  },
  "language_info": {
   "codemirror_mode": {
    "name": "ipython",
    "version": 3
   },
   "file_extension": ".py",
   "mimetype": "text/x-python",
   "name": "python",
   "nbconvert_exporter": "python",
   "pygments_lexer": "ipython3",
   "version": "3.9.7"
  }
 },
 "nbformat": 4,
 "nbformat_minor": 4
}
